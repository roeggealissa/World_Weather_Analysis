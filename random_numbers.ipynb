{
 "cells": [
  {
   "cell_type": "code",
   "execution_count": 15,
   "id": "2f6a82db",
   "metadata": {},
   "outputs": [],
   "source": [
    "#import the random module\n",
    "import random\n",
    "#import other modules\n",
    "import numpy as np\n",
    "import timeit"
   ]
  },
  {
   "cell_type": "code",
   "execution_count": 2,
   "id": "bf053923",
   "metadata": {},
   "outputs": [
    {
     "data": {
      "text/plain": [
       "72"
      ]
     },
     "execution_count": 2,
     "metadata": {},
     "output_type": "execute_result"
    }
   ],
   "source": [
    "random.randint(-90,90)\n",
    "#random number between -90 and 90"
   ]
  },
  {
   "cell_type": "code",
   "execution_count": 3,
   "id": "961888fa",
   "metadata": {},
   "outputs": [
    {
     "data": {
      "text/plain": [
       "0.33522613494043996"
      ]
     },
     "execution_count": 3,
     "metadata": {},
     "output_type": "execute_result"
    }
   ],
   "source": [
    "random.random()\n",
    "#random number between 0 and 1"
   ]
  },
  {
   "cell_type": "code",
   "execution_count": 4,
   "id": "de2e0484",
   "metadata": {},
   "outputs": [],
   "source": [
    "x = 1\n",
    "latitudes = []\n",
    "while x < 11:\n",
    "    random_lat = random.randint(-90, 89) + random.random()\n",
    "    latitudes.append(random_lat)\n",
    "    x += 1"
   ]
  },
  {
   "cell_type": "code",
   "execution_count": 5,
   "id": "4a2eab4d",
   "metadata": {},
   "outputs": [
    {
     "data": {
      "text/plain": [
       "11"
      ]
     },
     "execution_count": 5,
     "metadata": {},
     "output_type": "execute_result"
    }
   ],
   "source": [
    "x"
   ]
  },
  {
   "cell_type": "code",
   "execution_count": 6,
   "id": "7fe7b441",
   "metadata": {},
   "outputs": [
    {
     "data": {
      "text/plain": [
       "[21.679747913316987,\n",
       " -9.493485085043229,\n",
       " 36.277184821604955,\n",
       " 27.173348420065988,\n",
       " 11.409446612297842,\n",
       " -72.6308075870173,\n",
       " -12.636005804385544,\n",
       " -65.5208610512635,\n",
       " -78.70739656316329,\n",
       " 64.81400809042798]"
      ]
     },
     "execution_count": 6,
     "metadata": {},
     "output_type": "execute_result"
    }
   ],
   "source": [
    "latitudes"
   ]
  },
  {
   "cell_type": "code",
   "execution_count": 7,
   "id": "706b59ce",
   "metadata": {},
   "outputs": [
    {
     "data": {
      "text/plain": [
       "45"
      ]
     },
     "execution_count": 7,
     "metadata": {},
     "output_type": "execute_result"
    }
   ],
   "source": [
    "random.randrange(-90,90,3)"
   ]
  },
  {
   "cell_type": "code",
   "execution_count": 9,
   "id": "7e69c266",
   "metadata": {},
   "outputs": [
    {
     "data": {
      "text/plain": [
       "21.535077667995466"
      ]
     },
     "execution_count": 9,
     "metadata": {},
     "output_type": "execute_result"
    }
   ],
   "source": [
    "random.uniform(-90,90)"
   ]
  },
  {
   "cell_type": "code",
   "execution_count": 12,
   "id": "21834457",
   "metadata": {},
   "outputs": [
    {
     "data": {
      "text/plain": [
       "76.48402808556776"
      ]
     },
     "execution_count": 12,
     "metadata": {},
     "output_type": "execute_result"
    }
   ],
   "source": [
    "np.random.uniform(-90.000,90.000)"
   ]
  },
  {
   "cell_type": "code",
   "execution_count": 13,
   "id": "8f514827",
   "metadata": {},
   "outputs": [
    {
     "data": {
      "text/plain": [
       "array([ 12.92433129,  86.2291013 ,  56.23590228,  83.42814029,\n",
       "       -47.40690799, -57.6337611 ,  78.92114476,  72.27113887,\n",
       "        85.47094788,  23.64340658, -23.03935633,  86.56088338,\n",
       "       -74.59759136,  46.86837733, -40.7224747 , -25.48882757,\n",
       "        -2.69591886, -59.56626117,  -4.56382204,  60.22519102,\n",
       "        11.6672283 ,  54.77953498,  -8.7504868 ,  -3.94941473,\n",
       "        78.42622394, -46.68545828,  54.30212886,  23.95285615,\n",
       "       -25.20668789, -77.69695723, -72.82501315,  11.610196  ,\n",
       "        27.49160377, -33.25860415,  73.4643717 ,  37.82591366,\n",
       "       -23.4632814 , -26.82074528, -19.83498675, -87.73010503,\n",
       "       -51.5296826 , -42.97403964,  61.29270239, -66.77433985,\n",
       "        35.75238992,  80.85479668, -34.52176815,  16.15497384,\n",
       "        17.83566867, -79.43708816])"
      ]
     },
     "execution_count": 13,
     "metadata": {},
     "output_type": "execute_result"
    }
   ],
   "source": [
    "np.random.uniform(-90,90, size = 50)"
   ]
  },
  {
   "cell_type": "code",
   "execution_count": 16,
   "id": "86667db4",
   "metadata": {},
   "outputs": [
    {
     "name": "stdout",
     "output_type": "stream",
     "text": [
      "17.9 µs ± 966 ns per loop (mean ± std. dev. of 7 runs, 100000 loops each)\n"
     ]
    }
   ],
   "source": [
    "%timeit np.random.uniform(-90.000, 90.000, size=1500)\n"
   ]
  },
  {
   "cell_type": "code",
   "execution_count": 17,
   "id": "e0a5079c",
   "metadata": {},
   "outputs": [
    {
     "name": "stdout",
     "output_type": "stream",
     "text": [
      "1.62 ms ± 3.05 µs per loop (mean ± std. dev. of 7 runs, 1000 loops each)\n"
     ]
    }
   ],
   "source": [
    "def latitudes(size):\n",
    "    latitudes = []\n",
    "    x = 0\n",
    "    while x < (size):\n",
    "        random_lat = random.randint(-90, 90) + random.random()\n",
    "        latitudes.append(random_lat)\n",
    "        x += 1\n",
    "    return latitudes\n",
    "# Call the function with 1500.\n",
    "%timeit latitudes(1500)"
   ]
  },
  {
   "cell_type": "code",
   "execution_count": null,
   "id": "d24130cc",
   "metadata": {},
   "outputs": [],
   "source": []
  }
 ],
 "metadata": {
  "kernelspec": {
   "display_name": "PythonData",
   "language": "python",
   "name": "pythondata"
  },
  "language_info": {
   "codemirror_mode": {
    "name": "ipython",
    "version": 3
   },
   "file_extension": ".py",
   "mimetype": "text/x-python",
   "name": "python",
   "nbconvert_exporter": "python",
   "pygments_lexer": "ipython3",
   "version": "3.8.8"
  }
 },
 "nbformat": 4,
 "nbformat_minor": 5
}
